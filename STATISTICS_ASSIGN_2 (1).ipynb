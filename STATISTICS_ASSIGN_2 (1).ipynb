{
  "nbformat": 4,
  "nbformat_minor": 0,
  "metadata": {
    "colab": {
      "provenance": []
    },
    "kernelspec": {
      "name": "python3",
      "display_name": "Python 3"
    },
    "language_info": {
      "name": "python"
    }
  },
  "cells": [
    {
      "cell_type": "markdown",
      "source": [
        "                                                            ASSIGNMENT-2\n",
        "                                                        THEORETICAL QUESTIONS"
      ],
      "metadata": {
        "id": "QzRdu1LVbXyb"
      }
    },
    {
      "cell_type": "markdown",
      "source": [
        "1. What is hypothesis testing in statistics?\n",
        "\n",
        "- Hypothesis testing is a statistical method used to make inferences about a\n",
        "  population based on sample data. It helps determine whether there is enough evidence to reject a null hypothesis.\n",
        "\n",
        "- Example:\n",
        "\n",
        "   A company claims that its battery lasts 50 hours on average. A test on 30 batteries shows an average life of 48 hours. Hypothesis testing helps decide if this difference is significant."
      ],
      "metadata": {
        "id": "K2erqm_qbt8P"
      }
    },
    {
      "cell_type": "markdown",
      "source": [
        "2. What is the null hypothesis, and how does it differ from the alternative\n",
        "   hypothesis?\n",
        "\n",
        "-  **Null Hypothesis (H₀)**: A statement that assumes no effect or no difference  \n",
        "  (e. g., \"There is no change\").\n",
        "\n",
        "- **Alternative Hypothesis (H₁)**: A statement that contradicts H₀, indicating some\n",
        "  effect or difference.\n",
        "\n",
        "- Example:\n",
        "\n",
        "  H₀: The average battery life is 50 hours.\n",
        "\n",
        "  H₁: The average battery life is not 50 hours"
      ],
      "metadata": {
        "id": "1jyLtN77dLpo"
      }
    },
    {
      "cell_type": "markdown",
      "source": [
        "3.  What is the significance level in hypothesis testing, and why is it\n",
        "    important?\n",
        "\n",
        "- The significance level (α) is the probability of rejecting the null  \n",
        "   hypothesis when it is actually true. A common value is 0.05 (5%).\n",
        "\n",
        "  * Why Important?\n",
        "\n",
        "  It defines the threshold for decision-making in hypothesis testing. Lower values (e.g., 0.01) make the test stricter, reducing false positives.\n"
      ],
      "metadata": {
        "id": "YJnE07D7dqCX"
      }
    },
    {
      "cell_type": "markdown",
      "source": [
        "4. What does a P-value represent in hypothesis testing?\n",
        "\n",
        "- The P-value measures the probability of obtaining a result at least as  \n",
        "   extreme as the observed data, assuming the null hypothesis is true.\n",
        "\n",
        "  - Small P-value (≤ α): Strong evidence against H₀ → Reject H₀.\n",
        "\n",
        "  - Large P-value (> α): Weak evidence against H₀ → Fail to reject H₀.\n",
        "\n",
        "- Example:\n",
        "\n",
        " A test results in a P-value = 0.03 with α = 0.05. Since 0.03 < 0.05, we reject H₀."
      ],
      "metadata": {
        "id": "13z6AhO3d9jC"
      }
    },
    {
      "cell_type": "markdown",
      "source": [
        "5. How do you interpret the P-value in hypothesis testing?\n",
        "\n",
        "- If P-value ≤ α: Reject H₀ → The result is statistically significant.\n",
        "\n",
        "- If P-value > α: Fail to reject H₀ → No strong evidence against H₀.\n",
        "\n"
      ],
      "metadata": {
        "id": "NyuA4qSeeUrN"
      }
    },
    {
      "cell_type": "markdown",
      "source": [
        "6.  What are Type 1 and Type 2 errors in hypothesis testing?\n",
        "\n",
        "- T**ype 1 Error (False Positive)**:  Rejecting a true null hypothesis (e.g.,  \n",
        "   wrongly concluding a drug is effective).\n",
        "\n",
        "- **Type 2 Error (False Negative)**: Failing to reject a false null hypothesis\n",
        "  (e. g., missing a real effect of a new drug).\n"
      ],
      "metadata": {
        "id": "j5Qh-AEBed3B"
      }
    },
    {
      "cell_type": "markdown",
      "source": [
        "7. What is the difference between a one-tailed and a two-tailed test?\n",
        "\n",
        "- ** One-tailed test**: Tests for an effect in one direction (e.g., \"greater than\" or \"less than\").\n",
        "\n",
        "- **Two-tailed test**:  Tests for an effect in both directions (e.g., \"not equal\n",
        "   to\").\n",
        "\n",
        "  * Example:\n",
        "\n",
        "- One-tailed: \"New medicine is better than the old one.\"\n",
        "\n",
        "- Two-tailed: \"New medicine is different from the old one (either better or\n",
        "    worse).\"\n"
      ],
      "metadata": {
        "id": "__YVJUEge9ax"
      }
    },
    {
      "cell_type": "markdown",
      "source": [
        "8. What is the Z-test, and when is it used in hypothesis testing?\n",
        "\n",
        "- A Z-test is a statistical test used to compare sample and population means\n",
        "   when the sample size is large (n ≥ 30) and population standard deviation is known.\n",
        "\n",
        "- Example:\n",
        "  \n",
        "  Comparing the average IQ of a class to the national average IQ using a large sample size."
      ],
      "metadata": {
        "id": "Z3fVrQ_WfSw3"
      }
    },
    {
      "cell_type": "markdown",
      "source": [
        "9. How do you calculate the Z-score, and what does it represent?\n",
        "\n",
        "- The Z-score represents how many standard deviations a value is from the mean.\n",
        "      *  Z = (X - μ) / σ\n",
        "      \n",
        "  Where:\n",
        "\n",
        "* X = The data point you're interested in\n",
        "* μ = The population mean\n",
        "* σ = The population standard deviation\n",
        "\n"
      ],
      "metadata": {
        "id": "FAKx8k7jfagP"
      }
    },
    {
      "cell_type": "markdown",
      "source": [
        "10. What is the T-distribution, and when should it be used instead of the normal distribution?\n",
        "\n",
        "- The T-distribution is used when the sample size is small (n < 30), and the\n",
        "   population standard deviation is unknown.\n",
        "\n",
        "- It is wider than the normal distribution due to higher variability in small\n",
        "  samples.\n",
        "\n",
        "\n",
        "* Example:\n",
        "\n",
        " Testing the average height of students in a school (n = 20) when population variance is unknown."
      ],
      "metadata": {
        "id": "Xkk_7aXbfp-t"
      }
    },
    {
      "cell_type": "markdown",
      "source": [
        "11. What is the difference between a Z-test and a T-test?\n",
        "\n",
        "- Z-test: Used for large samples (n ≥ 30) and when population standard  \n",
        "  deviation is known.\n",
        "\n",
        "- T-test: Used for small samples (n < 30) and when population standard  \n",
        "  deviation is unknown."
      ],
      "metadata": {
        "id": "TYk2ikWPf5US"
      }
    },
    {
      "cell_type": "markdown",
      "source": [
        "12. What is the T-test, and how is it used in hypothesis testing?\n",
        "\n",
        "- A T-test compares two sample means to check if they are significantly\n",
        "  different.\n",
        "\n",
        "* Types of T-tests:\n",
        "\n",
        " 1. One-sample T-test: Compares a sample mean to a known population mean.\n",
        "\n",
        " 2. Independent T-test: Compares means of two independent groups.\n",
        "\n",
        " 3. Paired T-test: Compares means from the same group before/after a treatment."
      ],
      "metadata": {
        "id": "zPHg_vNJgpSt"
      }
    },
    {
      "cell_type": "markdown",
      "source": [
        "13. What is the relationship between Z-test and T-test in hypothesis testing?\n",
        "\n",
        "- Both tests compare means, but the Z-test is used for large samples, while the\n",
        "  T-test is for small samples.\n",
        "\n",
        "- As sample size increases, the T-distribution approaches the normal\n",
        "  distribution (Z-test).\n"
      ],
      "metadata": {
        "id": "jieZb54pg9nz"
      }
    },
    {
      "cell_type": "markdown",
      "source": [
        "14. What is a confidence interval, and how is it used to interpret statistical\n",
        "    results?\n",
        "\n",
        "- A confidence interval (CI) gives a range of values within which the true\n",
        "  population parameter is expected to lie with a certain confidence level (e.g., 95%).\n",
        "\n",
        "- Formula:\n",
        "\n",
        "  CI = \\bar{X} \\pm Z \\times \\left(\\frac{\\sigma}{\\sqrt{n}}\\right)\n",
        "\n",
        "     = Sample mean\n",
        "\n",
        "     = Z-score for confidence level\n",
        "\n",
        "     = Standard deviation\n",
        "\n",
        "     = Sample size\n"
      ],
      "metadata": {
        "id": "P6DZBMNChQXH"
      }
    },
    {
      "cell_type": "markdown",
      "source": [
        "15. What is the margin of error, and how does it affect the confidence interval?\n",
        "\n",
        "- The margin of error (ME) is the range around the sample mean where the true\n",
        "  population mean is expected to be.\n",
        "\n",
        "  - ME = Z \\times \\left(\\frac{\\sigma}{\\sqrt{n}}\\right)\n",
        "\n",
        "- A larger sample size reduces the margin of error.\n",
        "\n",
        "- A higher confidence level (e.g., 99%) increases the margin of error."
      ],
      "metadata": {
        "id": "D0wPbzuThfpx"
      }
    },
    {
      "cell_type": "markdown",
      "source": [
        "16. How is Bayes' Theorem used in statistics, and what is its significance?\n",
        "  - Bayes' Theorem is a fundamental concept in statistics that provides a way\n",
        "     to update the probability of an event based on new evidence. It's used to revise beliefs in light of new data.\n",
        "\n",
        "- Significance:\n",
        "\n",
        "  - Updating Beliefs: It allows us to incorporate prior knowledge and new data\n",
        "     to make more informed decisions.\n",
        "  - Predictive Modeling: Used in machine learning for tasks like spam       filtering    and medical diagnosis.\n",
        "  - Risk Assessment: In finance, it's used to calculate or update risk\n",
        "  evaluations."
      ],
      "metadata": {
        "id": "UDs3MYMflM_h"
      }
    },
    {
      "cell_type": "markdown",
      "source": [
        "17.  What is the Chi-square distribution, and when is it used?\n",
        "\n",
        "- Chi-square Distribution: It's a probability distribution used in statistics  \n",
        "  to analyze categorical data. It's characterized by its degrees of freedom, which determine its shape.\n",
        "\n",
        "- When it's Used:\n",
        "\n",
        "  1.Goodness of Fit Test: To see if observed data matches the expected\n",
        "  distribution for a categorical variable.\n",
        "  \n",
        "  2.Test of Independence: To determine if there's a relationship between two\n",
        "  categorical variables."
      ],
      "metadata": {
        "id": "fuFBtYBQm8r2"
      }
    },
    {
      "cell_type": "markdown",
      "source": [
        "18. What is the Chi-square goodness of fit test, and how is it applied?\n",
        "\n",
        "- Chi-square goodness of fit test: It's a statistical test used to determine if\n",
        "  a set of observed data matches a theoretical distribution. It essentially compares the observed frequencies of categories with the expected frequencies if the data followed the theoretical distribution.\n",
        "  \n",
        "- Applying the Chi-square goodness of fit test:\n",
        "\n",
        "  1. **Hypotheses**:\n",
        "\n",
        "    * Null (H0): Observed data fits the expected distribution.\n",
        "    * Alternative (H1): Observed data deviates from the expected distribution.\n",
        "  \n",
        "  2. **Chi-square statistic**: Measures the difference between observed (O) and\n",
        "     expected (E) frequencies: χ² = Σ [(O - E)² / E]\n",
        "\n",
        "  3. **Degrees of freedom** : Determined by the number of categories in the data.\n",
        "\n",
        "  4. ** P-value**  : Probability of observing the data if H0 is true.\n",
        "\n",
        "  5. **Decision**:\n",
        "\n",
        "     * If p-value < significance level (α, usually 0.05), reject H0. This suggests the data doesn't fit the expected distribution.\n",
        "\n",
        "     * If p-value ≥ α, fail to reject H0. There's not enough evidence to say  \n",
        "      the data deviates from the expected distribution."
      ],
      "metadata": {
        "id": "0PXtgJZVm8ow"
      }
    },
    {
      "cell_type": "markdown",
      "source": [
        "19. What is the F-distribution, and when is it used in hypothesis testing?\n",
        "\n",
        "- F-distribution: It's a probability distribution used to analyze the variance\n",
        "   between two or more groups of data.\n",
        "\n",
        "- When it's used in hypothesis testing:\n",
        "\n",
        "  * Comparing variances: To determine if the variances of two populations or\n",
        "     samples are significantly different.\n",
        "  \n",
        "  * ANOVA (Analysis of Variance): To test if there are significant differences between the means of multiple groups.\n",
        "  \n",
        "  * Regression analysis: To assess the overall fit of a regression model.\n"
      ],
      "metadata": {
        "id": "5OsPa19sqOrL"
      }
    },
    {
      "cell_type": "markdown",
      "source": [
        "20. What is an ANOVA test, and what are its assumptions?\n",
        "\n",
        " - ANOVA (Analysis of Variance) Test: It's a statistical test used to compare  \n",
        "   the means of two or more groups to determine if there are any significant differences between them.\n",
        "\n",
        "- Assumptions:\n",
        "\n",
        "1. Independence: The observations within each group are independent of each\n",
        "   other.\n",
        "2. Normality: The data within each group is normally distributed.\n",
        "3. Homogeneity of Variance: The variances of the groups are equal."
      ],
      "metadata": {
        "id": "n1WpuRUlqckZ"
      }
    },
    {
      "cell_type": "markdown",
      "source": [
        "21. What are the different types of ANOVA tests?\n",
        " - Types of ANOVA tests:\n",
        "\n",
        "* **One-way ANOVA**: Used to compare means of three or more groups based on one\n",
        "  factor (independent variable). Example: Comparing test scores of students from different schools.\n",
        "\n",
        "* **Two-way ANOVA**: Used to compare means of groups based on two or more factors.\n",
        "  Example: Comparing test scores based on school and gender.\n",
        "\n",
        "* **Factorial ANOV**A: An extension of two-way ANOVA with more than two factors.\n",
        "\n",
        "* **Repeated Measures ANOVA**: Used when the same subjects are measured multiple\n",
        "  times under different conditions.\n",
        "  - Example: Comparing test scores of students before and after a training\n",
        "     program.\n",
        "\n",
        "* **MANOVA (Multivariate ANOVA**) : Used to compare means of multiple dependent\n",
        "  variables across groups.\n",
        "   * Example: Comparing test scores and GPA across different schools."
      ],
      "metadata": {
        "id": "xG0fiRAvqgDa"
      }
    },
    {
      "cell_type": "markdown",
      "source": [
        "22. What is the F-test, and how does it relate to hypothesis testing?\n",
        "\n",
        " - F-test: It's a statistical test that uses the F-distribution to compare variances or assess the overall significance of a model.\n",
        "\n",
        " - Relation to hypothesis testing:\n",
        "\n",
        "   In hypothesis testing, the F-test is used to determine if there's a significant difference between the variances of two or more groups or if a regression model is a good fit for the data."
      ],
      "metadata": {
        "id": "zhg2jvt5qgzp"
      }
    },
    {
      "cell_type": "markdown",
      "source": [
        "                                        **PRACTICAL QUESTIONS**\n"
      ],
      "metadata": {
        "id": "okT73XPzuJ-Z"
      }
    },
    {
      "cell_type": "code",
      "source": [
        "PRACTICAL Q-1"
      ],
      "metadata": {
        "id": "l_MkL78uB3k5"
      },
      "execution_count": null,
      "outputs": []
    },
    {
      "source": [
        "# 1. Write a Python program to perform a Z-test for comparing a sample mean to a known population mean and interpret the results.\n",
        "import numpy as np\n",
        "from scipy import stats\n",
        "\n",
        "# Sample data\n",
        "sample_data = [48, 50, 52, 49, 51, 47, 53, 50, 49, 52]  # Replace with your sample data\n",
        "\n",
        "# Population parameters\n",
        "population_mean = 50  # Replace with the known population mean\n",
        "population_std = 5  # Replace with the known population standard deviation\n",
        "\n",
        "# Calculate sample statistics\n",
        "sample_mean = np.mean(sample_data)\n",
        "sample_size = len(sample_data)\n",
        "\n",
        "# Calculate the Z-score\n",
        "z_score = (sample_mean - population_mean) / (population_std / np.sqrt(sample_size))\n",
        "\n",
        "# Calculate the p-value (two-tailed test)\n",
        "p_value = 2 * (1 - stats.norm.cdf(abs(z_score)))\n",
        "\n",
        "# Set the significance level (alpha)\n",
        "alpha = 0.05  # Replace with your desired significance level\n",
        "\n",
        "# Interpret the results\n",
        "print(\"Z-score:\", z_score)\n",
        "print(\"P-value:\", p_value)\n",
        "\n",
        "if p_value < alpha:\n",
        "    print(\"Reject the null hypothesis.\")\n",
        "    print(\"There is a statistically significant difference between the sample mean and the population mean.\")\n",
        "else:\n",
        "    print(\"Fail to reject the null hypothesis.\")\n",
        "    print(\"There is no statistically significant difference between the sample mean and the population mean.\")"
      ],
      "cell_type": "code",
      "metadata": {
        "colab": {
          "base_uri": "https://localhost:8080/"
        },
        "id": "fH_QpBrUwr2f",
        "outputId": "997dca96-687c-4072-bd50-e9cefcab6aba"
      },
      "execution_count": 4,
      "outputs": [
        {
          "output_type": "stream",
          "name": "stdout",
          "text": [
            "Z-score: 0.06324555320336848\n",
            "P-value: 0.9495709711511044\n",
            "Fail to reject the null hypothesis.\n",
            "There is no statistically significant difference between the sample mean and the population mean.\n"
          ]
        }
      ]
    },
    {
      "cell_type": "code",
      "source": [
        "PRACTICAL Q-2"
      ],
      "metadata": {
        "id": "3Y6Kq7NoCNXR"
      },
      "execution_count": null,
      "outputs": []
    },
    {
      "source": [
        "#2 Simulate random data to perform hypothesis testing and calculate the corresponding P-value using Python.\n",
        "\n",
        "import numpy as np\n",
        "from scipy import stats\n",
        "\n",
        "# Parameters for data simulation\n",
        "n = 30  # Sample size\n",
        "mu = 50  # Population mean (under null hypothesis)\n",
        "sigma = 5  # Population standard deviation\n",
        "\n",
        "# Simulate random data\n",
        "data = np.random.normal(mu, sigma, n)\n",
        "\n",
        "# Perform one-sample t-test (assuming population standard deviation is unknown)\n",
        "t_statistic, p_value = stats.ttest_1samp(data, mu)\n",
        "\n",
        "# Print the results\n",
        "print(f\"T-statistic: {t_statistic:.2f}\")\n",
        "print(f\"P-value: {p_value:.3f}\")\n",
        "\n",
        "# Interpretation\n",
        "alpha = 0.05\n",
        "if p_value < alpha:\n",
        "    print(\"Reject the null hypothesis\")\n",
        "else:\n",
        "    print(\"Fail to reject the null hypothesis\")"
      ],
      "cell_type": "code",
      "metadata": {
        "colab": {
          "base_uri": "https://localhost:8080/"
        },
        "id": "ifDQ6DCJywru",
        "outputId": "d393f697-7c8e-4cc5-a284-1e21662e8e93"
      },
      "execution_count": 5,
      "outputs": [
        {
          "output_type": "stream",
          "name": "stdout",
          "text": [
            "T-statistic: -0.35\n",
            "P-value: 0.729\n",
            "Fail to reject the null hypothesis\n"
          ]
        }
      ]
    },
    {
      "cell_type": "code",
      "source": [
        "PRACTICAL QUE-3"
      ],
      "metadata": {
        "id": "vzHN0PJ70Tqw"
      },
      "execution_count": null,
      "outputs": []
    },
    {
      "source": [
        "#3Implement a one-sample Z-test using Python to compare the sample mean with the population mean.\n",
        "import math\n",
        "import numpy as np\n",
        "from scipy import stats\n",
        "\n",
        "def one_sample_z_test(sample_data, pop_mean, pop_std, alpha=0.05):\n",
        "  \"\"\"\n",
        "  Performs a one-sample Z-test.\n",
        "\n",
        "  Args:\n",
        "    sample_data: A list or numpy array of sample data.\n",
        "    pop_mean: The population mean.\n",
        "    pop_std: The population standard deviation.\n",
        "    alpha: The significance level (default is 0.05).\n",
        "\n",
        "  Returns:\n",
        "    z_statistic: The calculated Z-statistic.\n",
        "    p_value: The p-value of the test.\n",
        "    decision: A string indicating whether to reject or fail to reject the null hypothesis.\n",
        "  \"\"\"\n",
        "\n",
        "  sample_mean = np.mean(sample_data)\n",
        "  sample_size = len(sample_data)\n",
        "\n",
        "  # Calculate the Z-statistic\n",
        "  z_statistic = (sample_mean - pop_mean) / (pop_std / math.sqrt(sample_size))\n",
        "\n",
        "  # Calculate the p-value (two-tailed test)\n",
        "  p_value = 2 * (1 - stats.norm.cdf(abs(z_statistic)))\n",
        "\n",
        "  # Make a decision\n",
        "  if p_value < alpha:\n",
        "    decision = \"Reject the null hypothesis\"\n",
        "  else:\n",
        "    decision = \"Fail to reject the null hypothesis\"\n",
        "\n",
        "  return z_statistic, p_value, decision\n",
        "\n",
        "# Example usage:\n",
        "sample_data = [48, 50, 52, 49, 51, 47, 53, 50, 49, 52]\n",
        "pop_mean = 50\n",
        "pop_std = 5\n",
        "alpha = 0.05\n",
        "\n",
        "z_statistic, p_value, decision = one_sample_z_test(sample_data, pop_mean, pop_std, alpha)\n",
        "\n",
        "print(f\"Z-statistic: {z_statistic:.2f}\")\n",
        "print(f\"P-value: {p_value:.3f}\")\n",
        "print(f\"Decision: {decision}\")"
      ],
      "cell_type": "code",
      "metadata": {
        "colab": {
          "base_uri": "https://localhost:8080/"
        },
        "id": "a-vMXaUAzSKq",
        "outputId": "0e476287-650d-473d-8457-519608a18c45"
      },
      "execution_count": 10,
      "outputs": [
        {
          "output_type": "stream",
          "name": "stdout",
          "text": [
            "Z-statistic: 0.06\n",
            "P-value: 0.950\n",
            "Decision: Fail to reject the null hypothesis\n"
          ]
        }
      ]
    },
    {
      "cell_type": "code",
      "source": [
        "PRACTICAL QUE-4\n"
      ],
      "metadata": {
        "id": "eVx29Mzqzy3I"
      },
      "execution_count": null,
      "outputs": []
    },
    {
      "source": [
        "# Perform a two-tailed Z-test using Python and visualize the decision region on a plot\n",
        "import numpy as np\n",
        "import matplotlib.pyplot as plt\n",
        "from scipy import stats\n",
        "\n",
        "# Sample data and population parameters\n",
        "sample_mean = 52\n",
        "population_mean = 50\n",
        "population_std = 5\n",
        "sample_size = 30\n",
        "alpha = 0.05\n",
        "\n",
        "# Calculate the Z-score and p-value\n",
        "z_score = (sample_mean - population_mean) / (population_std / np.sqrt(sample_size))\n",
        "p_value = 2 * (1 - stats.norm.cdf(abs(z_score)))\n",
        "\n",
        "# Print the results\n",
        "print(f\"Z-score: {z_score:.2f}\")\n",
        "print(f\"P-value: {p_value:.3f}\")\n",
        "\n",
        "# Determine the critical values for the two-tailed test\n",
        "critical_value = stats.norm.ppf(1 - alpha / 2)\n",
        "\n",
        "#"
      ],
      "cell_type": "code",
      "metadata": {
        "colab": {
          "base_uri": "https://localhost:8080/"
        },
        "id": "Jr5yESOb0JFF",
        "outputId": "9c7d5a4e-0329-4bb6-995c-af607accf0da"
      },
      "execution_count": 12,
      "outputs": [
        {
          "output_type": "stream",
          "name": "stdout",
          "text": [
            "Z-score: 2.19\n",
            "P-value: 0.028\n"
          ]
        }
      ]
    },
    {
      "cell_type": "code",
      "source": [
        "PRACTICAL QUE-5"
      ],
      "metadata": {
        "id": "Q4FLYySF06Ul"
      },
      "execution_count": null,
      "outputs": []
    },
    {
      "source": [
        "# Create a Python function that calculates and visualizes Type 1 and Type 2 errors during hypothesis testing.\n",
        "import numpy as np\n",
        "import matplotlib.pyplot as plt\n",
        "from scipy import stats\n",
        "\n",
        "def visualize_errors(mu0, mu1, sigma, n, alpha):\n",
        "    \"\"\"\n",
        "    Calculates and visualizes Type I and Type II errors.\n",
        "\n",
        "    Args:\n",
        "        mu0: Population mean under the null hypothesis.\n",
        "        mu1: Population mean under the alternative hypothesis.\n",
        "        sigma: Population standard deviation.\n",
        "        n: Sample size.\n",
        "        alpha: Significance level.\n",
        "    \"\"\"\n",
        "\n",
        "    # Critical value for the null hypothesis distribution\n",
        "    z_critical = stats.norm.ppf(1 - alpha / 2)  # Two-tailed test\n",
        "    x_critical = mu0 + z_critical * sigma / np.sqrt(n)\n",
        "\n",
        "    # Generate x-values for plotting\n",
        "    x = np.linspace(mu0 - 4 * sigma / np.sqrt(n), mu1 + 4 * sigma / np.sqrt(n), 1000)\n",
        "\n",
        "    # Plot the null and alternative hypothesis distributions\n",
        "    plt.plot(x, stats.norm.pdf(x, mu0, sigma / np.sqrt(n)), label='Null Hypothesis')\n",
        "    plt.plot(x, stats.norm.pdf(x, mu1, sigma / np.sqrt(n)), label='Alternative Hypothesis')\n",
        "\n",
        "    # Shade the Type I error region (alpha)\n",
        "    plt.fill_between(x, stats.norm.pdf(x, mu0, sigma / np.sqrt(n)),\n",
        "                     where=(x > x_critical), color='red', alpha=0.5, label='Type I Error')\n",
        "    plt.fill_between(x, stats.norm.pdf(x, mu0, sigma / np.sqrt(n)),\n",
        "                     where=(x < mu0 - (x_critical - mu0)), color='red', alpha=0.5)\n",
        "\n",
        "    # Shade the Type II error region (beta)\n",
        "    plt.fill_between(x, stats.norm.pdf(x, mu1, sigma / np.sqrt(n)),\n",
        "                     where=(x < x_critical), color='blue', alpha=0.5, label='Type II Error')\n",
        "\n",
        "    # Add labels and legend\n",
        "    plt.title('Type I and Type II Errors')\n",
        "    plt.xlabel('Sample Mean')\n",
        "    plt.ylabel('Probability Density')\n",
        "    plt.legend()\n",
        "    plt.show()"
      ],
      "cell_type": "code",
      "metadata": {
        "id": "iaHgCD4q1KiM"
      },
      "execution_count": 16,
      "outputs": []
    },
    {
      "source": [
        "# Example usage\n",
        "mu0 = 50  # Population mean under the null hypothesis\n",
        "mu1 = 52  # Population mean under the alternative hypothesis\n",
        "sigma = 5  # Population standard deviation\n",
        "n = 30  # Sample size\n",
        "alpha = 0.05  # Significance level\n",
        "\n",
        "visualize_errors(mu0, mu1, sigma, n, alpha)"
      ],
      "cell_type": "code",
      "metadata": {
        "colab": {
          "base_uri": "https://localhost:8080/",
          "height": 472
        },
        "id": "CHOC2ah31f4x",
        "outputId": "256c9855-7c5f-4065-d13a-6a4a970b751d"
      },
      "execution_count": 15,
      "outputs": [
        {
          "output_type": "display_data",
          "data": {
            "text/plain": [
              "<Figure size 640x480 with 1 Axes>"
            ],
            "image/png": "[encoded data removed]"
          },
          "metadata": {}
        }
      ]
    },
    {
      "cell_type": "code",
      "source": [
        "PRACTCAL Q-6"
      ],
      "metadata": {
        "id": "opV5AdVh2ATg"
      },
      "execution_count": null,
      "outputs": []
    },
    {
      "source": [
        "# Write a Python program to perform an independent T-test and interpret the results.\n",
        "import numpy as np\n",
        "from scipy import stats\n",
        "\n",
        "# Sample data for two groups\n",
        "group1 = [10, 12, 14, 11, 13]\n",
        "group2 = [15, 17, 16, 14, 18]\n",
        "\n",
        "# Perform independent t-test\n",
        "t_statistic, p_value = stats.ttest_ind(group1, group2)\n",
        "\n",
        "# Interpret results\n",
        "alpha = 0.05  # Significance level\n",
        "\n",
        "print(f\"T-statistic: {t_statistic:.2f}\")\n",
        "print(f\"P-value: {p_value:.3f}\")\n",
        "\n",
        "if p_value < alpha:\n",
        "    print(\"Reject the null hypothesis.\")\n",
        "    print(\"There is a significant difference between the groups.\")\n",
        "else:\n",
        "    print(\"Fail to reject the null hypothesis.\")\n",
        "    print(\"There is no significant difference between the groups.\")"
      ],
      "cell_type": "code",
      "metadata": {
        "colab": {
          "base_uri": "https://localhost:8080/"
        },
        "id": "q_20i1OS2POZ",
        "outputId": "3c3395e0-d425-42d8-92cb-d27d0fe37887"
      },
      "execution_count": 17,
      "outputs": [
        {
          "output_type": "stream",
          "name": "stdout",
          "text": [
            "T-statistic: -4.00\n",
            "P-value: 0.004\n",
            "Reject the null hypothesis.\n",
            "There is a significant difference between the groups.\n"
          ]
        }
      ]
    },
    {
      "cell_type": "code",
      "source": [
        "PRACTICAL Q-7"
      ],
      "metadata": {
        "id": "wrrXAFT52Y05"
      },
      "execution_count": null,
      "outputs": []
    },
    {
      "source": [
        "# Perform a paired sample T-test using Python and visualize the comparison results.\n",
        "import numpy as np\n",
        "from scipy import stats\n",
        "import matplotlib.pyplot as plt\n",
        "\n",
        "# Sample data (before and after measurements)\n",
        "before = [10, 12, 14, 11, 13]\n",
        "after = [12, 14, 16, 13, 15]\n",
        "\n",
        "# Perform paired t-test\n",
        "t_statistic, p_value = stats.ttest_rel(before, after)\n",
        "\n",
        "# Print the results\n",
        "print(f\"T-statistic: {t_statistic:.2f}\")\n",
        "print(f\"P-value: {p_value:.3f}\")\n",
        "\n",
        "# Visualize the comparison\n",
        "plt.plot(np.arange(len(before)), before, label='Before')\n",
        "plt.plot(np.arange(len(after)), after, label='After')\n",
        "plt.xlabel('Subject')\n",
        "plt.ylabel('Measurement')\n",
        "plt.title('Paired Sample T-test')\n",
        "plt.legend()\n",
        "plt.show()"
      ],
      "cell_type": "code",
      "metadata": {
        "colab": {
          "base_uri": "https://localhost:8080/",
          "height": 561
        },
        "id": "AlsnFOEA2rJ6",
        "outputId": "e90995aa-f6f9-4a7f-b5ee-8ddc5217759b"
      },
      "execution_count": 18,
      "outputs": [
        {
          "output_type": "stream",
          "name": "stderr",
          "text": [
            "/usr/local/lib/python3.11/dist-packages/scipy/stats/_axis_nan_policy.py:531: RuntimeWarning: Precision loss occurred in moment calculation due to catastrophic cancellation. This occurs when the data are nearly identical. Results may be unreliable.\n",
            "  res = hypotest_fun_out(*samples, **kwds)\n"
          ]
        },
        {
          "output_type": "stream",
          "name": "stdout",
          "text": [
            "T-statistic: -inf\n",
            "P-value: 0.000\n"
          ]
        },
        {
          "output_type": "display_data",
          "data": {
            "text/plain": [
              "<Figure size 640x480 with 1 Axes>"
            ],
            "image/png": "[encoded data removed]"
          },
          "metadata": {}
        }
      ]
    },
    {
      "cell_type": "code",
      "source": [
        "PRACTICAL Q-8"
      ],
      "metadata": {
        "id": "qCv4EGNk21wP"
      },
      "execution_count": null,
      "outputs": []
    },
    {
      "source": [
        "# Simulate data and perform both Z-test and T-test, then compare the results using Python.\n",
        "import numpy as np\n",
        "from scipy import stats\n",
        "\n",
        "# Simulate data\n",
        "np.random.seed(42)  # For reproducibility\n",
        "data = np.random.normal(loc=50, scale=10, size=30)\n",
        "\n",
        "# Z-test (assuming population standard deviation is known)\n",
        "z_statistic, z_p_value = stats.ttest_1samp(data, popmean=50)\n",
        "\n",
        "# T-test (population standard deviation is unknown)\n",
        "t_statistic, t_p_value = stats.ttest_1samp(data, popmean=50)\n",
        "\n",
        "# Print results\n",
        "print(f\"Z-test: statistic={z_statistic:.2f}, p-value={z_p_value:.3f}\")\n",
        "print(f\"T-test: statistic={t_statistic:.2f}, p-value={t_p_value:.3f}\")"
      ],
      "cell_type": "code",
      "metadata": {
        "colab": {
          "base_uri": "https://localhost:8080/"
        },
        "id": "dfmRmMA83Jxu",
        "outputId": "e174216f-a494-4ad5-d0c7-b6400c19b8fc"
      },
      "execution_count": 19,
      "outputs": [
        {
          "output_type": "stream",
          "name": "stdout",
          "text": [
            "Z-test: statistic=-1.15, p-value=0.262\n",
            "T-test: statistic=-1.15, p-value=0.262\n"
          ]
        }
      ]
    },
    {
      "cell_type": "code",
      "source": [
        "PRACTCAL Q-9"
      ],
      "metadata": {
        "id": "LIItMwTK3rMv"
      },
      "execution_count": null,
      "outputs": []
    },
    {
      "source": [
        "# Write a Python function to calculate the confidence interval for a sample mean and explain its significance.\n",
        "import numpy as np\n",
        "from scipy import stats\n",
        "\n",
        "def confidence_interval(data, confidence=0.95):\n",
        "    \"\"\"\n",
        "    Calculates the confidence interval for a sample mean.\n",
        "\n",
        "    Args:\n",
        "        data: A list or numpy array of sample data.\n",
        "        confidence: The desired confidence level (default is 0.95).\n",
        "\n",
        "    Returns:\n",
        "        A tuple containing the lower and upper bounds of the confidence interval.\n",
        "    \"\"\"\n",
        "    n = len(data)\n",
        "    mean = np.mean(data)\n",
        "    sem = stats.sem(data)  # Standard error of the mean\n",
        "    interval = stats.t.interval(confidence, n - 1, loc=mean, scale=sem)\n",
        "    return interval"
      ],
      "cell_type": "code",
      "metadata": {
        "id": "ElDwDju43ty4"
      },
      "execution_count": 20,
      "outputs": []
    },
    {
      "cell_type": "code",
      "source": [
        "PRACTICAL Q-10"
      ],
      "metadata": {
        "id": "7PWWRtx54Y9U"
      },
      "execution_count": null,
      "outputs": []
    },
    {
      "cell_type": "code",
      "source": [
        "# Write a Python program to calculate the margin of error for a given confidence level using sample data.\n",
        "import numpy as np\n",
        "from scipy import stats\n",
        "import math\n",
        "\n",
        "def margin_of_error(data, confidence=0.95):\n",
        "    \"\"\"\n",
        "    Calculates the margin of error for a sample mean.\n",
        "\n",
        "    Args:\n",
        "        data: A list or numpy array of sample data.\n",
        "        confidence: The desired confidence level (default is 0.95).\n",
        "\n",
        "    Returns:\n",
        "        The margin of error.\n",
        "    \"\"\"\n",
        "    n = len(data)\n",
        "    if n < 30:\n",
        "        # Use t-distribution for small samples\n",
        "        sem = stats.sem(data)\n",
        "        critical_value = stats.t.ppf((1 + confidence) / 2, n - 1)\n",
        "        margin_of_error = critical_value * sem\n",
        "    else:\n",
        "        # Use z-distribution for large samples\n",
        "        std = np.std(data, ddof=1)  # ddof=1 for sample standard deviation\n",
        "        z_critical = stats.norm.ppf((1 + confidence) / 2)\n",
        "        margin_of_error = z_critical * (std / math.sqrt(n))\n",
        "\n",
        "    return margin_of_error\n",
        "\n",
        "# Example usage:\n",
        "data = [10, 12, 14, 11, 13, 15, 16, 14, 18]\n",
        "confidence_level = 0.95\n",
        "moe = margin_of_error(data, confidence_level)\n",
        "\n",
        "print(f\"Margin of Error ({confidence_level*100:.0f}% confidence): {moe:.2f}\")"
      ],
      "metadata": {
        "colab": {
          "base_uri": "https://localhost:8080/"
        },
        "id": "2brt9G3F396v",
        "outputId": "e81e3706-165a-4d57-bd05-12ce2584f664"
      },
      "execution_count": 21,
      "outputs": [
        {
          "output_type": "stream",
          "name": "stdout",
          "text": [
            "Margin of Error (95% confidence): 1.92\n"
          ]
        }
      ]
    },
    {
      "cell_type": "code",
      "source": [
        "PRACTICAL Q-11"
      ],
      "metadata": {
        "id": "gg8ndWYh5GMO"
      },
      "execution_count": null,
      "outputs": []
    },
    {
      "cell_type": "code",
      "source": [
        "# Implement a Bayesian inference method using Bayes' Theorem in Python and explain the process.\n",
        "import numpy as np\n",
        "\n",
        "def bayesian_inference(prior, likelihood, evidence):\n",
        "    \"\"\"\n",
        "    Performs Bayesian inference using Bayes' Theorem.\n",
        "\n",
        "    Args:\n",
        "        prior: Prior probability of the hypothesis.\n",
        "        likelihood: Likelihood of the evidence given the hypothesis.\n",
        "        evidence: Probability of the evidence.\n",
        "\n",
        "    Returns:\n",
        "        The posterior probability of the hypothesis.\n",
        "    \"\"\"\n",
        "    posterior = (likelihood * prior) / evidence\n",
        "    return posterior\n",
        "\n",
        "# Example: Coin flip\n",
        "prior = 0.5  # Prior belief: Coin is fair (50% chance of heads)\n",
        "likelihood = 0.8  # Likelihood: If coin is biased, 80% chance of heads\n",
        "evidence = 0.6  # Evidence: We observed heads 60% of the time\n",
        "\n",
        "posterior = bayesian_inference(prior, likelihood, evidence)\n",
        "print(f\"Posterior probability of biased coin: {posterior:.2f}\")"
      ],
      "metadata": {
        "colab": {
          "base_uri": "https://localhost:8080/"
        },
        "id": "NPeMPyvv4g-3",
        "outputId": "b4dfb463-631c-4b32-ec38-0fc7188e4b6d"
      },
      "execution_count": 22,
      "outputs": [
        {
          "output_type": "stream",
          "name": "stdout",
          "text": [
            "Posterior probability of biased coin: 0.67\n"
          ]
        }
      ]
    },
    {
      "cell_type": "code",
      "source": [
        "PRACTICAL Q-12"
      ],
      "metadata": {
        "id": "yuF4Umk85ery"
      },
      "execution_count": null,
      "outputs": []
    },
    {
      "cell_type": "code",
      "source": [
        "# Perform a Chi-square test for independence between two categorical variables in Python.\n",
        "import numpy as np\n",
        "from scipy.stats import chi2_contingency\n",
        "\n",
        "# Contingency table (observed frequencies)\n",
        "observed = np.array([[10, 20, 30],\n",
        "                     [5, 15, 25]])\n",
        "\n",
        "# Perform Chi-square test\n",
        "chi2_statistic, p_value, dof, expected = chi2_contingency(observed)\n",
        "\n",
        "# Print results\n",
        "print(f\"Chi-square statistic: {chi2_statistic:.2f}\")\n",
        "print(f\"P-value: {p_value:.3f}\")\n",
        "\n",
        "# Interpret results (example with alpha = 0.05)\n",
        "alpha = 0.05\n",
        "if p_value < alpha:\n",
        "    print(\"Reject the null hypothesis (variables are dependent).\")\n",
        "else:\n",
        "    print(\"Fail to reject the null hypothesis (variables are independent).\")"
      ],
      "metadata": {
        "colab": {
          "base_uri": "https://localhost:8080/"
        },
        "id": "oWPRgp-X5OFI",
        "outputId": "845f8db7-e98c-496e-8905-be5c1ce8dfd9"
      },
      "execution_count": 23,
      "outputs": [
        {
          "output_type": "stream",
          "name": "stdout",
          "text": [
            "Chi-square statistic: 0.71\n",
            "P-value: 0.702\n",
            "Fail to reject the null hypothesis (variables are independent).\n"
          ]
        }
      ]
    },
    {
      "cell_type": "code",
      "source": [
        "PRACTICAL Q-13"
      ],
      "metadata": {
        "id": "7hp-bbpI6JCz"
      },
      "execution_count": null,
      "outputs": []
    },
    {
      "cell_type": "code",
      "source": [
        "# Write a Python program to calculate the expected frequencies for a Chi-square test based on observed data.\n",
        "\n",
        "import numpy as np\n",
        "from scipy.stats import chi2_contingency\n",
        "\n",
        "# Observed data (contingency table)\n",
        "observed = np.array([[10, 20, 30],\n",
        "                     [5, 15, 25]])\n",
        "\n",
        "# Calculate expected frequencies\n",
        "chi2_statistic, p_value, dof, expected = chi2_contingency(observed)\n",
        "\n",
        "# Print expected frequencies\n",
        "print(\"Expected Frequencies:\")\n",
        "print(expected)"
      ],
      "metadata": {
        "colab": {
          "base_uri": "https://localhost:8080/"
        },
        "id": "v7CVvRDw5lM1",
        "outputId": "47af04c7-6d21-4fcb-b694-8f913a141ade"
      },
      "execution_count": 26,
      "outputs": [
        {
          "output_type": "stream",
          "name": "stdout",
          "text": [
            "Expected Frequencies:\n",
            "[[ 8.57142857 20.         31.42857143]\n",
            " [ 6.42857143 15.         23.57142857]]\n"
          ]
        }
      ]
    },
    {
      "cell_type": "code",
      "source": [
        "PRACTICAL Q-14"
      ],
      "metadata": {
        "id": "qyFFjdzxDk9y"
      },
      "execution_count": null,
      "outputs": []
    },
    {
      "cell_type": "code",
      "source": [
        "# Perform a goodness-of-fit test using Python to compare the observed data to an expected distribution.\n",
        "import numpy as np\n",
        "from scipy import stats\n",
        "\n",
        "# Observed data\n",
        "observed_data = [10, 15, 20, 25, 30]  # Replace with your actual data\n",
        "\n",
        "# Expected distribution (e.g., uniform)\n",
        "expected_distribution = [20, 20, 20, 20, 20]  # Replace with your expected frequencies\n",
        "\n",
        "# Perform goodness-of-fit test\n",
        "chi2_statistic, p_value = stats.chisquare(observed_data, f_exp=expected_distribution)\n",
        "\n",
        "# Print results\n",
        "print(f\"Chi-square statistic: {chi2_statistic:.2f}\")\n",
        "print(f\"P-value: {p_value:.3f}\")\n",
        "\n",
        "# Interpretation (example with alpha = 0.05)\n",
        "alpha = 0.05\n",
        "if p_value < alpha:\n",
        "    print(\"Reject the null hypothesis (data does not fit expected distribution).\")\n",
        "else:\n",
        "    print(\"Fail to reject the null hypothesis (data fits expected distribution).\")"
      ],
      "metadata": {
        "colab": {
          "base_uri": "https://localhost:8080/"
        },
        "id": "VoysKgYV6Rvd",
        "outputId": "6b048e39-dfb7-4040-dd61-5bc245e06e68"
      },
      "execution_count": 27,
      "outputs": [
        {
          "output_type": "stream",
          "name": "stdout",
          "text": [
            "Chi-square statistic: 12.50\n",
            "P-value: 0.014\n",
            "Reject the null hypothesis (data does not fit expected distribution).\n"
          ]
        }
      ]
    },
    {
      "cell_type": "code",
      "source": [
        "PRACTICAL Q-15"
      ],
      "metadata": {
        "id": "ehMZRIwTDoeo"
      },
      "execution_count": null,
      "outputs": []
    },
    {
      "cell_type": "code",
      "source": [
        "# Create a Python script to simulate and visualize the Chi-square distribution and discuss its characteristics.\n",
        "import numpy as np\n",
        "import matplotlib.pyplot as plt\n",
        "from scipy import stats\n",
        "\n",
        "# Degrees of freedom\n",
        "df = 10\n",
        "\n",
        "# Generate random data\n",
        "data = stats.chi2.rvs(df, size=1000)\n",
        "\n",
        "# Plot the distribution\n",
        "plt.hist(data, bins=30, density=True, alpha=0.6, color='g')\n",
        "plt.xlabel('Chi-square Value')\n",
        "plt.ylabel('Probability Density')\n",
        "plt.title('Chi-square Distribution (df = {})'.format(df))\n",
        "plt.show()"
      ],
      "metadata": {
        "colab": {
          "base_uri": "https://localhost:8080/",
          "height": 472
        },
        "id": "gunPMBCV6nP6",
        "outputId": "f334a37a-e3af-493a-ea12-f3a84745839e"
      },
      "execution_count": 28,
      "outputs": [
        {
          "output_type": "display_data",
          "data": {
            "text/plain": [
              "<Figure size 640x480 with 1 Axes>"
            ],
            "image/png": "[encoded data removed]"
          },
          "metadata": {}
        }
      ]
    },
    {
      "cell_type": "code",
      "source": [
        "PRACTICAL Q-16"
      ],
      "metadata": {
        "id": "mhssnZHBDwBc"
      },
      "execution_count": null,
      "outputs": []
    },
    {
      "cell_type": "code",
      "source": [
        "# Implement an F-test using Python to compare the variances of two random samples.\n",
        "import numpy as np\n",
        "from scipy import stats\n",
        "\n",
        "# Generate two random samples\n",
        "sample1 = np.random.normal(loc=10, scale=2, size=30)\n",
        "sample2 = np.random.normal(loc=12, scale=3, size=40)\n",
        "\n",
        "# Perform F-test\n",
        "f_statistic, p_value = stats.f_oneway(sample1, sample2)\n",
        "\n",
        "# Print results\n",
        "print(f\"F-statistic: {f_statistic:.2f}\")\n",
        "print(f\"P-value: {p_value:.3f}\")\n",
        "\n",
        "# Interpret results (example with alpha = 0.05)\n",
        "alpha = 0.05\n",
        "if p_value < alpha:\n",
        "    print(\"Reject the null hypothesis (variances are significantly different).\")\n",
        "else:\n",
        "    print(\"Fail to reject the null hypothesis (variances are not significantly different).\")"
      ],
      "metadata": {
        "colab": {
          "base_uri": "https://localhost:8080/"
        },
        "id": "icYrDc8r63gF",
        "outputId": "6c3bf2f3-026c-46d5-87dc-4ddd80e02acf"
      },
      "execution_count": 29,
      "outputs": [
        {
          "output_type": "stream",
          "name": "stdout",
          "text": [
            "F-statistic: 24.64\n",
            "P-value: 0.000\n",
            "Reject the null hypothesis (variances are significantly different).\n"
          ]
        }
      ]
    },
    {
      "cell_type": "code",
      "source": [
        "PRACTICAL Q-17"
      ],
      "metadata": {
        "id": "ZBHZS-uF7oVH"
      },
      "execution_count": null,
      "outputs": []
    },
    {
      "cell_type": "code",
      "source": [
        "# Write a Python program to perform an ANOVA test to compare means between multiple groups and interpret the results.\n",
        "import numpy as np\n",
        "from scipy import stats\n",
        "\n",
        "# Sample data for three groups\n",
        "group1 = [10, 12, 14, 11, 13]\n",
        "group2 = [15, 17, 16, 14, 18]\n",
        "group3 = [12, 13, 15, 14, 16]\n",
        "\n",
        "# Perform ANOVA test\n",
        "f_statistic, p_value = stats.f_oneway(group1, group2, group3)\n",
        "\n",
        "# Print results\n",
        "print(f\"F-statistic: {f_statistic:.2f}\")\n",
        "print(f\"P-value: {p_value:.3f}\")\n",
        "\n",
        "# Interpretation (example with alpha = 0.05)\n",
        "alpha = 0.05\n",
        "if p_value < alpha:\n",
        "    print(\"Reject the null hypothesis (there are significant differences between group means).\")\n",
        "else:\n",
        "    print(\"Fail to reject the null hypothesis (no significant differences between group means).\")"
      ],
      "metadata": {
        "colab": {
          "base_uri": "https://localhost:8080/"
        },
        "id": "71fuLj2W7PZT",
        "outputId": "b1800c4a-752f-4af4-d220-ee9534a7b8c9"
      },
      "execution_count": 31,
      "outputs": [
        {
          "output_type": "stream",
          "name": "stdout",
          "text": [
            "F-statistic: 8.00\n",
            "P-value: 0.006\n",
            "Reject the null hypothesis (there are significant differences between group means).\n"
          ]
        }
      ]
    },
    {
      "cell_type": "code",
      "source": [
        "PRACTICAL Q-18"
      ],
      "metadata": {
        "id": "H3-jI3i2D6cu"
      },
      "execution_count": null,
      "outputs": []
    },
    {
      "cell_type": "code",
      "source": [
        "# Perform a one-way ANOVA test using Python to compare the means of different groups and plot the results.\n",
        "import numpy as np\n",
        "import pandas as pd\n",
        "import matplotlib.pyplot as plt\n",
        "from scipy import stats\n",
        "import statsmodels.api as sm\n",
        "from statsmodels.formula.api import ols\n",
        "\n",
        "# Sample data\n",
        "data = pd.DataFrame({'group': ['A', 'A', 'A', 'B', 'B', 'B', 'C', 'C', 'C'],\n",
        "                     'value': [10, 12, 14, 15, 17, 16, 12, 13, 15]})\n",
        "\n",
        "# Perform ANOVA\n",
        "model = ols('value ~ group', data=data).fit()\n",
        "anova_table = sm.stats.anova_lm(model, typ=2)\n",
        "print(anova_table)\n",
        "\n",
        "# Plot the results\n",
        "plt.figure(figsize=(8, 6))\n",
        "plt.boxplot([data['value'][data['group'] == g] for g in data['group'].unique()],\n",
        "            labels=data['group'].unique())\n",
        "plt.title('One-way ANOVA')\n",
        "plt.xlabel('Group')\n",
        "plt.ylabel('Value')\n",
        "plt.show()"
      ],
      "metadata": {
        "colab": {
          "base_uri": "https://localhost:8080/",
          "height": 671
        },
        "id": "03aoKYJM7sSs",
        "outputId": "2fc0e01c-eede-4bfc-d9c6-3f912f9941dc"
      },
      "execution_count": 32,
      "outputs": [
        {
          "output_type": "stream",
          "name": "stdout",
          "text": [
            "             sum_sq   df         F    PR(>F)\n",
            "group     24.888889  2.0  5.090909  0.050977\n",
            "Residual  14.666667  6.0       NaN       NaN\n"
          ]
        },
        {
          "output_type": "stream",
          "name": "stderr",
          "text": [
            "<ipython-input-32-3ae8bb6b4320>:20: MatplotlibDeprecationWarning: The 'labels' parameter of boxplot() has been renamed 'tick_labels' since Matplotlib 3.9; support for the old name will be dropped in 3.11.\n",
            "  plt.boxplot([data['value'][data['group'] == g] for g in data['group'].unique()],\n"
          ]
        },
        {
          "output_type": "display_data",
          "data": {
            "text/plain": [
              "<Figure size 800x600 with 1 Axes>"
            ],
            "image/png": "[encoded data removed]"
          },
          "metadata": {}
        }
      ]
    },
    {
      "cell_type": "code",
      "source": [
        "PRACTICAL Q-19"
      ],
      "metadata": {
        "id": "b-4bTpm98n3z"
      },
      "execution_count": null,
      "outputs": []
    },
    {
      "cell_type": "code",
      "source": [
        "# Write a Python function to check the assumptions (normality, independence, and equal variance) for ANOVA.\n",
        "import numpy as np\n",
        "import pandas as pd\n",
        "from scipy import stats\n",
        "import statsmodels.api as sm\n",
        "from statsmodels.formula.api import ols\n",
        "\n",
        "def check_anova_assumptions(data, group_col, value_col):\n",
        "    \"\"\"\n",
        "    Checks ANOVA assumptions: normality, independence, equal variance.\n",
        "\n",
        "    Args:\n",
        "        data: Pandas DataFrame containing the data.\n",
        "        group_col: Name of the column representing the groups.\n",
        "        value_col: Name of the column representing the values.\n",
        "    \"\"\"\n",
        "    # Normality (Shapiro-Wilk test)\n",
        "    for group in data[group_col].unique():\n",
        "        _, p_value = stats.shapiro(data[value_col][data[group_col] == group])\n",
        "        print(f\"Shapiro-Wilk test for group {group}: p-value = {p_value:.3f}\")\n",
        "\n",
        "    # Independence (assumed)\n",
        "    print(\"Independence assumption: Assumed based on data collection.\")\n",
        "\n",
        "    # Equal variance (Levene's test)\n",
        "    _, p_value = stats.levene(*[data[value_col][data[group_col] == g]\n",
        "                                 for g in data[group_col].unique()])\n",
        "    print(f\"Levene's test for equal variance: p-value = {p_value:.3f}\")\n",
        "\n",
        "# Example usage\n",
        "data = pd.DataFrame({'group': ['A', 'A', 'A', 'B', 'B', 'B', 'C', 'C', 'C'],\n",
        "                     'value': [10, 12, 14, 15, 17, 16, 12, 13, 15]})\n",
        "check_anova_assumptions(data, 'group', 'value')"
      ],
      "metadata": {
        "colab": {
          "base_uri": "https://localhost:8080/"
        },
        "id": "wVQ9R6Xn8OXV",
        "outputId": "b33ebcc6-53d2-4060-dba9-c8cbf718e75c"
      },
      "execution_count": 33,
      "outputs": [
        {
          "output_type": "stream",
          "name": "stdout",
          "text": [
            "Shapiro-Wilk test for group A: p-value = 1.000\n",
            "Shapiro-Wilk test for group B: p-value = 1.000\n",
            "Shapiro-Wilk test for group C: p-value = 0.637\n",
            "Independence assumption: Assumed based on data collection.\n",
            "Levene's test for equal variance: p-value = 0.702\n"
          ]
        }
      ]
    },
    {
      "cell_type": "code",
      "source": [
        "PRACTICAL Q-20"
      ],
      "metadata": {
        "id": "i2fEJfI59AwR"
      },
      "execution_count": null,
      "outputs": []
    },
    {
      "cell_type": "code",
      "source": [
        "# Perform a two-way ANOVA test using Python to study the interaction between two factors and visualize the results.\n",
        "import pandas as pd\n",
        "import statsmodels.api as sm\n",
        "from statsmodels.formula.api import ols\n",
        "import matplotlib.pyplot as plt\n",
        "\n",
        "# Sample data\n",
        "data = pd.DataFrame({'Factor1': ['A', 'A', 'B', 'B', 'A', 'A', 'B', 'B'],\n",
        "                     'Factor2': ['X', 'Y', 'X', 'Y', 'X', 'Y', 'X', 'Y'],\n",
        "                     'Value': [10, 12, 15, 18, 11, 13, 16, 19]})\n",
        "\n",
        "# Perform two-way ANOVA\n",
        "model = ols('Value ~ Factor1 * Factor2', data=data).fit()\n",
        "anova_table = sm.stats.anova_lm(model, typ=2)\n",
        "print(anova_table)\n",
        "\n",
        "# Visualize interaction\n",
        "from statsmodels.graphics.factorplots import interaction_plot\n",
        "fig = interaction_plot(data['Factor1'], data['Factor2'], data['Value'],\n",
        "                       colors=['red', 'blue'], markers=['D', '^'], ms=10)\n",
        "plt.show()"
      ],
      "metadata": {
        "colab": {
          "base_uri": "https://localhost:8080/",
          "height": 536
        },
        "id": "Zr4Ap4Xn8ulf",
        "outputId": "fe20fe38-235e-4bb8-c73c-a8c9bde695ba"
      },
      "execution_count": 34,
      "outputs": [
        {
          "output_type": "stream",
          "name": "stdout",
          "text": [
            "                 sum_sq   df      F    PR(>F)\n",
            "Factor1            60.5  1.0  121.0  0.000388\n",
            "Factor2            12.5  1.0   25.0  0.007490\n",
            "Factor1:Factor2     0.5  1.0    1.0  0.373901\n",
            "Residual            2.0  4.0    NaN       NaN\n"
          ]
        },
        {
          "output_type": "display_data",
          "data": {
            "text/plain": [
              "<Figure size 640x480 with 1 Axes>"
            ],
            "image/png": "[encoded data removed]"
          },
          "metadata": {}
        }
      ]
    },
    {
      "cell_type": "code",
      "source": [
        "PRACTICAL Q-21"
      ],
      "metadata": {
        "id": "-Rvsa712ESko"
      },
      "execution_count": null,
      "outputs": []
    },
    {
      "cell_type": "code",
      "source": [
        "# Write a Python program to visualize the F-distribution and discuss its use in hypothesis testing.\n",
        "import numpy as np\n",
        "import matplotlib.pyplot as plt\n",
        "from scipy import stats\n",
        "\n",
        "# Degrees of freedom (dfn, dfd)\n",
        "dfn = 5  # Degrees of freedom for the numerator\n",
        "dfd = 20 # Degrees of freedom for the denominator\n",
        "\n",
        "# Generate x-values\n",
        "x = np.linspace(0, 5, 100)\n",
        "\n",
        "# Calculate F-distribution values\n",
        "pdf = stats.f.pdf(x, dfn, dfd)\n",
        "\n",
        "# Plot the distribution\n",
        "plt.plot(x, pdf, label=f'F({dfn}, {dfd})')\n",
        "plt.title('F-Distribution')\n",
        "plt.xlabel('F-value')\n",
        "plt.ylabel('Probability Density')\n",
        "plt.legend()\n",
        "plt.show()"
      ],
      "metadata": {
        "colab": {
          "base_uri": "https://localhost:8080/",
          "height": 472
        },
        "id": "9L8WS9359EZm",
        "outputId": "716ddd42-bfb5-4e8b-f121-21d254bff69e"
      },
      "execution_count": 35,
      "outputs": [
        {
          "output_type": "display_data",
          "data": {
            "text/plain": [
              "<Figure size 640x480 with 1 Axes>"
            ],
            "image/png": "[encoded data removed]"
          },
          "metadata": {}
        }
      ]
    },
    {
      "cell_type": "code",
      "source": [
        "PRACTICAL Q-22"
      ],
      "metadata": {
        "id": "ZGnqV0sc99Fo"
      },
      "execution_count": null,
      "outputs": []
    },
    {
      "cell_type": "code",
      "source": [
        "# Perform a one-way ANOVA test in Python and visualize the results with boxplots to compare group means.\n",
        "import scipy.stats as stats\n",
        "import matplotlib.pyplot as plt\n",
        "import pandas as pd\n",
        "\n",
        "# Sample data\n",
        "data = pd.DataFrame({'group': ['A', 'A', 'A', 'B', 'B', 'B', 'C', 'C', 'C'],\n",
        "                     'value': [10, 12, 14, 15, 17, 16, 12, 13, 15]})\n",
        "\n",
        "# Perform ANOVA\n",
        "groups = data['group'].unique()\n",
        "fvalue, pvalue = stats.f_oneway(*[data['value'][data['group'] == g] for g in groups])\n",
        "\n",
        "# Print results\n",
        "print(f\"F-value: {fvalue:.2f}\")\n",
        "print(f\"P-value: {pvalue:.3f}\")\n",
        "\n",
        "# Visualize with boxplots\n",
        "data.boxplot(column='value', by='group')\n",
        "plt.title('One-way ANOVA')\n",
        "plt.xlabel('Group')\n",
        "plt.ylabel('Value')\n",
        "plt.show()"
      ],
      "metadata": {
        "colab": {
          "base_uri": "https://localhost:8080/",
          "height": 513
        },
        "id": "rOItvtK69hLj",
        "outputId": "824b32bd-f662-47bc-d140-cebaafe2aff9"
      },
      "execution_count": 36,
      "outputs": [
        {
          "output_type": "stream",
          "name": "stdout",
          "text": [
            "F-value: 5.09\n",
            "P-value: 0.051\n"
          ]
        },
        {
          "output_type": "display_data",
          "data": {
            "text/plain": [
              "<Figure size 640x480 with 1 Axes>"
            ],
            "image/png": "[encoded data removed]"
          },
          "metadata": {}
        }
      ]
    },
    {
      "cell_type": "code",
      "source": [
        "PRACTICAL Q-23"
      ],
      "metadata": {
        "id": "WeB1EnC5-aMw"
      },
      "execution_count": null,
      "outputs": []
    },
    {
      "cell_type": "code",
      "source": [
        "# Simulate random data from a normal distribution, then perform hypothesis testing to evaluate the means.\n",
        "import numpy as np\n",
        "from scipy import stats\n",
        "\n",
        "# Set random seed for reproducibility\n",
        "np.random.seed(123)\n",
        "\n",
        "# Simulate data from a normal distribution\n",
        "data = np.random.normal(loc=5, scale=2, size=100)\n",
        "\n",
        "# Define the null hypothesis mean\n",
        "null_mean = 5\n",
        "\n",
        "# Perform a one-sample t-test\n",
        "t_statistic, p_value = stats.ttest_1samp(data, popmean=null_mean)\n",
        "\n",
        "# Print the results\n",
        "print(f\"t-statistic: {t_statistic:.2f}\")\n",
        "print(f\"p-value: {p_value:.3f}\")\n",
        "\n",
        "# Interpret the results\n",
        "alpha = 0.05\n",
        "if p_value < alpha:\n",
        "    print(\"Reject the null hypothesis: the sample mean is significantly different from the hypothesized mean.\")\n",
        "else:\n",
        "    print(\"Fail to reject the null hypothesis: the sample mean is not significantly different from the hypothesized mean.\")"
      ],
      "metadata": {
        "colab": {
          "base_uri": "https://localhost:8080/"
        },
        "id": "9FhuCIZA-CgV",
        "outputId": "3dce5fbc-31d5-4c0f-e54e-c0b6535ab1f1"
      },
      "execution_count": 37,
      "outputs": [
        {
          "output_type": "stream",
          "name": "stdout",
          "text": [
            "t-statistic: 0.24\n",
            "p-value: 0.812\n",
            "Fail to reject the null hypothesis: the sample mean is not significantly different from the hypothesized mean.\n"
          ]
        }
      ]
    },
    {
      "cell_type": "code",
      "source": [
        "PRACTICAL Q-24"
      ],
      "metadata": {
        "id": "NA5VyzkcARel"
      },
      "execution_count": null,
      "outputs": []
    },
    {
      "cell_type": "code",
      "source": [
        "# Perform a hypothesis test for population variance using a Chi-square distribution and interpret the results.\n",
        "import numpy as np\n",
        "from scipy import stats\n",
        "\n",
        "# Sample data\n",
        "data = [10, 12, 14, 11, 13, 15, 16, 14, 18]\n",
        "\n",
        "# Hypothesized population variance\n",
        "hypothesized_variance = 5\n",
        "\n",
        "# Calculate sample statistics\n",
        "n = len(data)\n",
        "sample_variance = np.var(data, ddof=1)  # ddof=1 for sample variance\n",
        "\n",
        "# Calculate Chi-square statistic\n",
        "chi_square_statistic = (n - 1) * sample_variance / hypothesized_variance\n",
        "\n",
        "# Calculate p-value (two-tailed test)\n",
        "p_value = 2 * min(stats.chi2.cdf(chi_square_statistic, n - 1),\n",
        "                  1 - stats.chi2.cdf(chi_square_statistic, n - 1))\n",
        "\n",
        "# Print results\n",
        "print(f\"Chi-square statistic: {chi_square_statistic:.2f}\")\n",
        "print(f\"P-value: {p_value:.3f}\")\n",
        "\n",
        "# Interpret results (example with alpha = 0.05)\n",
        "alpha = 0.05\n",
        "if p_value < alpha:\n",
        "    print(\"Reject the null hypothesis (population variance is not equal to hypothesized variance).\")\n",
        "else:\n",
        "    print(\"Fail to reject the null hypothesis (population variance is equal to hypothesized variance).\")"
      ],
      "metadata": {
        "colab": {
          "base_uri": "https://localhost:8080/"
        },
        "id": "TRx_rGzA-d4P",
        "outputId": "e2799547-58de-43c7-838e-df69ac31cd83"
      },
      "execution_count": 41,
      "outputs": [
        {
          "output_type": "stream",
          "name": "stdout",
          "text": [
            "Chi-square statistic: 10.00\n",
            "P-value: 0.530\n",
            "Fail to reject the null hypothesis (population variance is equal to hypothesized variance).\n"
          ]
        }
      ]
    },
    {
      "cell_type": "code",
      "source": [
        "PRACTICAL Q-25"
      ],
      "metadata": {
        "id": "zgEPGhYDADmL"
      },
      "execution_count": null,
      "outputs": []
    },
    {
      "cell_type": "code",
      "source": [
        "# Write a Python script to perform a Z-test for comparing proportions between two datasets or groups.\n",
        "\n",
        "import statsmodels.stats.proportion as proportion\n",
        "\n",
        "# Data for group 1\n",
        "count1 = 100  # Number of successes in group 1\n",
        "nobs1 = 500   # Total number of observations in group 1\n",
        "\n",
        "# Data for group 2\n",
        "count2 = 120  # Number of successes in group 2\n",
        "nobs2 = 600   # Total number of observations in group 2\n",
        "\n",
        "# Perform Z-test for proportions\n",
        "z_stat, p_value = proportion.proportions_ztest([count1, count2], [nobs1, nobs2])\n",
        "\n",
        "# Print results\n",
        "print(f\"Z-statistic: {z_stat:.2f}\")\n",
        "print(f\"P-value: {p_value:.3f}\")\n",
        "\n",
        "# Interpretation (example with alpha = 0.05)\n",
        "alpha = 0.05\n",
        "if p_value < alpha:\n",
        "    print(\"Reject the null hypothesis (proportions are significantly different).\")\n",
        "else:\n",
        "    print(\"Fail to reject the null hypothesis (proportions are not significantly different).\")"
      ],
      "metadata": {
        "colab": {
          "base_uri": "https://localhost:8080/"
        },
        "id": "3j1q51rz_p7q",
        "outputId": "1d3dfafd-fa15-4c4f-e3f3-c73325b98de8"
      },
      "execution_count": 39,
      "outputs": [
        {
          "output_type": "stream",
          "name": "stdout",
          "text": [
            "Z-statistic: 0.00\n",
            "P-value: 1.000\n",
            "Fail to reject the null hypothesis (proportions are not significantly different).\n"
          ]
        }
      ]
    },
    {
      "cell_type": "code",
      "source": [
        "PRACTICAL Q-26"
      ],
      "metadata": {
        "id": "FHWJ2IdXAnb3"
      },
      "execution_count": null,
      "outputs": []
    },
    {
      "cell_type": "code",
      "source": [
        "# Implement an F-test for comparing the variances of two datasets, then interpret and visualize the results.\n",
        "import numpy as np\n",
        "from scipy import stats\n",
        "import matplotlib.pyplot as plt\n",
        "\n",
        "# Generate two random samples (replace with your actual data)\n",
        "data1 = np.random.normal(loc=10, scale=2, size=30)\n",
        "data2 = np.random.normal(loc=12, scale=3, size=40)\n",
        "\n",
        "# Perform F-test\n",
        "fvalue, pvalue = stats.f_oneway(data1, data2)  # Using f_oneway for variance comparison\n",
        "\n",
        "# Print results\n",
        "print(f\"F-value: {fvalue:.2f}\")\n",
        "print(f\"P-value: {pvalue:.3f}\")\n",
        "\n",
        "# Interpretation (alpha = 0.05)\n",
        "alpha = 0.05\n",
        "if pvalue < alpha:\n",
        "    print(\"Reject the null hypothesis (variances are significantly different).\")\n",
        "else:\n",
        "    print(\"Fail to reject the null hypothesis (variances are not significantly different).\")\n",
        "\n",
        "# Visualize with box plots\n",
        "plt.boxplot([data1, data2], labels=['Data 1', 'Data 2'])\n",
        "plt.title('Comparison of Variances')\n",
        "plt.ylabel('Values')\n",
        "plt.show()"
      ],
      "metadata": {
        "colab": {
          "base_uri": "https://localhost:8080/",
          "height": 559
        },
        "id": "z7-gjzI7AU9_",
        "outputId": "de8b369a-c130-4ff7-f9ba-f44fc262239a"
      },
      "execution_count": 43,
      "outputs": [
        {
          "output_type": "stream",
          "name": "stdout",
          "text": [
            "F-value: 12.06\n",
            "P-value: 0.001\n",
            "Reject the null hypothesis (variances are significantly different).\n"
          ]
        },
        {
          "output_type": "stream",
          "name": "stderr",
          "text": [
            "<ipython-input-43-567cea859ab5>:25: MatplotlibDeprecationWarning: The 'labels' parameter of boxplot() has been renamed 'tick_labels' since Matplotlib 3.9; support for the old name will be dropped in 3.11.\n",
            "  plt.boxplot([data1, data2], labels=['Data 1', 'Data 2'])\n"
          ]
        },
        {
          "output_type": "display_data",
          "data": {
            "text/plain": [
              "<Figure size 640x480 with 1 Axes>"
            ],
            "image/png": "[encoded data removed]"
          },
          "metadata": {}
        }
      ]
    },
    {
      "cell_type": "code",
      "source": [
        "PRACTICAL Q-27"
      ],
      "metadata": {
        "id": "LQk8dm9ZBZmQ"
      },
      "execution_count": null,
      "outputs": []
    },
    {
      "cell_type": "code",
      "source": [
        "# Perform a Chi-square test for goodness of fit with simulated data and analyze the results.\n",
        "import numpy as np\n",
        "from scipy import stats\n",
        "\n",
        "# Observed frequencies (simulated data)\n",
        "observed = np.array([10, 15, 20, 25, 30])\n",
        "\n",
        "# Expected frequencies (assuming uniform distribution)\n",
        "expected = np.array([20, 20, 20, 20, 20])\n",
        "\n",
        "# Perform Chi-square test\n",
        "chi2_statistic, p_value = stats.chisquare(observed, f_exp=expected)\n",
        "\n",
        "# Print results\n",
        "print(f\"Chi-square statistic: {chi2_statistic:.2f}\")\n",
        "print(f\"P-value: {p_value:.3f}\")\n",
        "\n",
        "# Interpretation (example with alpha = 0.05)\n",
        "alpha = 0.05\n",
        "if p_value < alpha:\n",
        "    print(\"Reject the null hypothesis (data does not fit expected distribution).\")\n",
        "else:\n",
        "    print(\"Fail to reject the null hypothesis (data fits expected distribution).\")"
      ],
      "metadata": {
        "colab": {
          "base_uri": "https://localhost:8080/"
        },
        "id": "ixCOOmJoArtW",
        "outputId": "92c77c03-8eaf-4103-c12f-580f5c9d8f22"
      },
      "execution_count": 44,
      "outputs": [
        {
          "output_type": "stream",
          "name": "stdout",
          "text": [
            "Chi-square statistic: 12.50\n",
            "P-value: 0.014\n",
            "Reject the null hypothesis (data does not fit expected distribution).\n"
          ]
        }
      ]
    }
  ]
}